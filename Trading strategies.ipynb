{
 "cells": [
  {
   "cell_type": "code",
   "execution_count": 1,
   "id": "d67bdbfd-250b-4cc8-aac7-1d5a78f8fd7a",
   "metadata": {},
   "outputs": [],
   "source": [
    "import numpy as pnp\n",
    "import pandas as pd\n",
    "import matplotlib.pyplot as plt\n"
   ]
  },
  {
   "cell_type": "code",
   "execution_count": 2,
   "id": "c7aaffd9-f029-4e1a-89f2-beaf835dc167",
   "metadata": {},
   "outputs": [
    {
     "name": "stdin",
     "output_type": "stream",
     "text": [
      "Enter the number of options:  1\n",
      "Enter option type (call or put):  put\n",
      "Enter position (long or short):  long\n",
      "Enter strike price (x):  50\n",
      "Enter premium:  5\n",
      "Enter the number of stocks:  1\n",
      "Enter position (long or short):  long\n",
      "Enter stock price (x):  100\n"
     ]
    },
    {
     "name": "stdout",
     "output_type": "stream",
     "text": [
      "\n",
      "Assets Details:\n",
      "Option 1: {'type': 'option', 'option_type': 'put', 'position': 'long', 'strike_price': 50.0, 'premium': 5.0}\n",
      "Stock 2: {'type': 'stock', 'position': 'long', 'stock_price': 100.0}\n",
      "\n",
      "Asset Data Variable:\n",
      "[{'type': 'option', 'option_type': 'put', 'position': 'long', 'strike_price': 50.0, 'premium': 5.0}, {'type': 'stock', 'position': 'long', 'stock_price': 100.0}]\n",
      "\n",
      "Asset Data DataFrame:\n",
      "     type option_type position  strike_price  premium  stock_price\n",
      "0  option         put     long          50.0      5.0          0.0\n",
      "1   stock           0     long           0.0      0.0        100.0\n"
     ]
    },
    {
     "data": {
      "image/png": "[encoded data removed]",
      "text/plain": [
       "<Figure size 640x480 with 1 Axes>"
      ]
     },
     "metadata": {},
     "output_type": "display_data"
    }
   ],
   "source": [
    "import pandas as pd\n",
    "\n",
    "def get_asset_input(asset_type):\n",
    "    if asset_type == 'option':\n",
    "        option_type = input(\"Enter option type (call or put): \").lower()\n",
    "        position = input(\"Enter position (long or short): \").lower()\n",
    "        strike_price = float(input(\"Enter strike price (x): \"))\n",
    "        premium = float(input(\"Enter premium: \"))\n",
    "        return {'type': 'option', 'option_type': option_type, 'position': position, 'strike_price': strike_price, 'premium': premium}\n",
    "    elif asset_type == 'stock':\n",
    "        position_stock = input(\"Enter position (long or short): \").lower()\n",
    "        stock_price = float(input(\"Enter stock price (x): \"))\n",
    "        return {'type': 'stock', 'position': position_stock, 'stock_price':stock_price}\n",
    "\n",
    "def main():\n",
    "    assets = []\n",
    "\n",
    "    num_options = int(input(\"Enter the number of options: \"))\n",
    "    assets.extend(get_asset_input('option') for _ in range(num_options))\n",
    "\n",
    "    num_stocks = int(input(\"Enter the number of stocks: \"))\n",
    "    assets.extend(get_asset_input('stock') for _ in range(num_stocks))\n",
    "\n",
    "    print(\"\\nAssets Details:\")\n",
    "    for i, asset in enumerate(assets, 1):\n",
    "        print(f\"{asset['type'].capitalize()} {i}: {asset}\")\n",
    "\n",
    "    return assets  # Return the assets list\n",
    "\n",
    "if __name__ == \"__main__\":\n",
    "    asset_data = main()\n",
    "    # Now, asset_data contains the list of dictionaries with asset details\n",
    "    print(\"\\nAsset Data Variable:\")\n",
    "    print(asset_data)\n",
    "\n",
    "    # Convert the list of dictionaries into a Pandas DataFrame\n",
    "    asset_data = pd.DataFrame(asset_data)\n",
    "    \n",
    "    # Fill NaN values with 0\n",
    "    asset_data.fillna(0, inplace=True)\n",
    "    \n",
    "    print(\"\\nAsset Data DataFrame:\")\n",
    "    print(asset_data)\n",
    "\n",
    "def calculate_total_payoff(asset_data,spot_price):\n",
    "    total_payoff = 0\n",
    "    total_profit=0\n",
    "    \n",
    "    for i in range(len(asset_data)):\n",
    "        if asset_data['type'][i] == 'option':\n",
    "            if asset_data['option_type'][i] == 'call':\n",
    "                if asset_data['position'][i] == 'long':\n",
    "                    payoff = max(0, spot_price - asset_data['strike_price'][i])\n",
    "                    profit = payoff-asset_data['premium'][i]\n",
    "                else:\n",
    "                    payoff = -(max(0, spot_price - asset_data['strike_price'][i]))\n",
    "                    profit = (payoff+asset_data['premium'][i])\n",
    "            else:\n",
    "                if asset_data['position'][i] == 'long':\n",
    "                    payoff = max(0, asset_data['strike_price'][i] - spot_price)\n",
    "                    profit = payoff-asset_data['premium'][i]\n",
    "                else:\n",
    "                    payoff = -(max(0, asset_data['strike_price'][i] - spot_price))\n",
    "                    profit = (payoff+asset_data['premium'][i])\n",
    "        else:\n",
    "            if asset_data['position'][i] == 'long':\n",
    "                payoff = spot_price\n",
    "                profit = payoff-asset_data['stock_price'][i]\n",
    "            else:\n",
    "                payoff = -spot_price\n",
    "                profit = payoff+asset_data['stock_price'][i]\n",
    "\n",
    "        total_payoff += payoff\n",
    "        total_profit += profit\n",
    "    \n",
    "\n",
    "    return total_payoff,total_profit\n",
    "def payoff_profit(asset_data):\n",
    "    scenario_stock_price_list = int(max(asset_data['strike_price']+100))\n",
    "    result_list = [i for i in range(0, scenario_stock_price_list, 1)]\n",
    "    payoff=[]\n",
    "    profit=[]\n",
    "    for spot_price in result_list:\n",
    "        payoff.append(calculate_total_payoff(asset_data,spot_price)[0])\n",
    "        profit.append(calculate_total_payoff(asset_data,spot_price)[1])\n",
    "    data = {'Spot Price': result_list, 'Payoff': payoff, 'Profit': profit}\n",
    "    df = pd.DataFrame(data)\n",
    "    \n",
    "    return df\n",
    "df = payoff_profit(asset_data)\n",
    "plt.plot(df['Spot Price'], df['Payoff'], label='Payoff', marker='o')\n",
    "plt.plot(df['Spot Price'], df['Profit'], label='Profit', marker='s')\n",
    "\n",
    "# Adding labels and title\n",
    "plt.xlabel('Spot Price')\n",
    "plt.ylabel('Value')\n",
    "plt.title('Payoff and Profit vs Spot Price')\n",
    "\n",
    "# Adding a legend\n",
    "plt.legend()\n",
    "\n",
    "# Displaying the graph\n",
    "plt.show()\n"
   ]
  },
  {
   "cell_type": "markdown",
   "id": "be519ac2-4096-4eb6-8eb4-ecbe94fd4d96",
   "metadata": {},
   "source": [
    "## The above strategy is called as protectie put (Long on Put and Stock)\n"
   ]
  }
 ],
 "metadata": {
  "kernelspec": {
   "display_name": "Python 3 (ipykernel)",
   "language": "python",
   "name": "python3"
  },
  "language_info": {
   "codemirror_mode": {
    "name": "ipython",
    "version": 3
   },
   "file_extension": ".py",
   "mimetype": "text/x-python",
   "name": "python",
   "nbconvert_exporter": "python",
   "pygments_lexer": "ipython3",
   "version": "3.11.7"
  }
 },
 "nbformat": 4,
 "nbformat_minor": 5
}
